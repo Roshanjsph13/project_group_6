{
 "cells": [
  {
   "cell_type": "code",
   "execution_count": 6,
   "metadata": {},
   "outputs": [],
   "source": [
    "import sqlite3\n",
    "import pandas as pd\n",
    "\n",
    "\n",
    "def create_db(db_name, filename, table_name):\n",
    "    con=sqlite3.connect(db_name)\n",
    "    cursor=con.cursor()\n",
    "\n",
    "    students=pd.read_csv(filename)\n",
    "    students.to_sql(table_name, con, if_exists='replace', index=False)\n",
    "    results=cursor.execute(f\"SELECT * FROM {table_name}\").fetchall()\n",
    "    con.commit()\n",
    "    con.close()\n",
    "    return results"
   ]
  },
  {
   "cell_type": "code",
   "execution_count": 7,
   "metadata": {},
   "outputs": [],
   "source": [
    "students=create_db(\"student_performance.db\", \"study_performance.csv\", \"students\")"
   ]
  }
 ],
 "metadata": {
  "kernelspec": {
   "display_name": ".venv",
   "language": "python",
   "name": "python3"
  },
  "language_info": {
   "codemirror_mode": {
    "name": "ipython",
    "version": 3
   },
   "file_extension": ".py",
   "mimetype": "text/x-python",
   "name": "python",
   "nbconvert_exporter": "python",
   "pygments_lexer": "ipython3",
   "version": "3.12.2"
  }
 },
 "nbformat": 4,
 "nbformat_minor": 2
}
